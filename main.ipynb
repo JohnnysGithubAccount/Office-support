{
 "cells": [
  {
   "cell_type": "markdown",
   "id": "59a41639",
   "metadata": {},
   "source": [
    "# Configuring"
   ]
  },
  {
   "cell_type": "code",
   "execution_count": 1,
   "id": "92170af9",
   "metadata": {},
   "outputs": [],
   "source": [
    "import pandas as pd\n",
    "from docx import Document\n",
    "from typing import List, Tuple, Dict\n",
    "import os\n",
    "import datetime\n",
    "import time"
   ]
  },
  {
   "cell_type": "code",
   "execution_count": 21,
   "id": "ed12bf45",
   "metadata": {},
   "outputs": [],
   "source": [
    "data_path = r\"info.xlsx\"\n",
    "template_path = r\"format.docx\"\n",
    "output_folder = r\"results/\""
   ]
  },
  {
   "cell_type": "markdown",
   "id": "7d2b8091",
   "metadata": {},
   "source": [
    "# Fill template"
   ]
  },
  {
   "cell_type": "code",
   "execution_count": 89,
   "id": "85857b2d",
   "metadata": {},
   "outputs": [],
   "source": [
    "def fill_invitations(template_path: str, data, debug: bool = False) -> Document:\n",
    "    doc = Document(template_path)\n",
    "    for paragraph in doc.paragraphs:\n",
    "        if debug:\n",
    "            print(\"-\" * 10)\n",
    "            print(paragraph.text)\n",
    "            print(\"-\" * 10)\n",
    "        for key, value in data.items():\n",
    "            # if debug:\n",
    "            #     print(f\"Key: {key}\\nValue: {value}\")\n",
    "            if key in paragraph.text:\n",
    "                if debug:\n",
    "                    print(f\"Replaced: [{key.replace(' ', '_')}] with {str(value)}\")\n",
    "                for run in paragraph.runs:\n",
    "                    run.text = run.text.replace(f\"[{key.replace(' ', '_')}]\", str(value))\n",
    "    return doc"
   ]
  },
  {
   "cell_type": "markdown",
   "id": "a7e10a53",
   "metadata": {},
   "source": [
    "# Get data"
   ]
  },
  {
   "cell_type": "code",
   "execution_count": 90,
   "id": "3b9c3b27",
   "metadata": {},
   "outputs": [],
   "source": [
    "def get_data(data_path: str) -> Tuple[int, pd.DataFrame, List[str]]:\n",
    "    df = pd.read_excel(data_path, engine='openpyxl')\n",
    "    return len(df), df, df.columns.tolist()\n"
   ]
  },
  {
   "cell_type": "code",
   "execution_count": 153,
   "id": "cd56536e",
   "metadata": {},
   "outputs": [],
   "source": [
    "iterations, df, columns = get_data(data_path)"
   ]
  },
  {
   "cell_type": "code",
   "execution_count": 154,
   "id": "5ebbd59d",
   "metadata": {},
   "outputs": [
    {
     "data": {
      "text/html": [
       "<div>\n",
       "<style scoped>\n",
       "    .dataframe tbody tr th:only-of-type {\n",
       "        vertical-align: middle;\n",
       "    }\n",
       "\n",
       "    .dataframe tbody tr th {\n",
       "        vertical-align: top;\n",
       "    }\n",
       "\n",
       "    .dataframe thead th {\n",
       "        text-align: right;\n",
       "    }\n",
       "</style>\n",
       "<table border=\"1\" class=\"dataframe\">\n",
       "  <thead>\n",
       "    <tr style=\"text-align: right;\">\n",
       "      <th></th>\n",
       "      <th>STT</th>\n",
       "      <th>Họ và tên chủ sử dụng</th>\n",
       "      <th>Địa chỉ</th>\n",
       "      <th>Địa chỉ thửa đất</th>\n",
       "      <th>Số tờ bản đồ</th>\n",
       "      <th>Số thửa</th>\n",
       "      <th>Diện tích</th>\n",
       "      <th>Số Thông báo</th>\n",
       "      <th>Ngày ban hành</th>\n",
       "      <th>NGÀY</th>\n",
       "      <th>THÁNG</th>\n",
       "      <th>NĂM</th>\n",
       "      <th>Họ và tên chủ sử dụng.1</th>\n",
       "      <th>Địa chỉ mới</th>\n",
       "      <th>Địa chỉ thửa đất mới</th>\n",
       "      <th>Số tờ bản đồ mới</th>\n",
       "      <th>Số thửa mới</th>\n",
       "      <th>Diện tích mới</th>\n",
       "      <th>số bản vẽ mới</th>\n",
       "      <th>ngày tháng năm</th>\n",
       "    </tr>\n",
       "  </thead>\n",
       "  <tbody>\n",
       "    <tr>\n",
       "      <th>0</th>\n",
       "      <td>1</td>\n",
       "      <td>Lê Thị Nha</td>\n",
       "      <td>ấp Trung, xã Tân Thông Hội, huyện Củ Chi, Tp.HCM</td>\n",
       "      <td>xã Tân Phú Trung</td>\n",
       "      <td>11</td>\n",
       "      <td>127</td>\n",
       "      <td>266.6</td>\n",
       "      <td>5960</td>\n",
       "      <td>06-02-2023</td>\n",
       "      <td>6</td>\n",
       "      <td>2</td>\n",
       "      <td>2023</td>\n",
       "      <td>Phạm Thành</td>\n",
       "      <td>27/4T ấp Đông Lân, xã Bà Điểm, huyện Hóc Môn, ...</td>\n",
       "      <td>xã Tân Phú Trung</td>\n",
       "      <td>11</td>\n",
       "      <td>127</td>\n",
       "      <td>266.6</td>\n",
       "      <td>61 BS</td>\n",
       "      <td>02/01/2024</td>\n",
       "    </tr>\n",
       "  </tbody>\n",
       "</table>\n",
       "</div>"
      ],
      "text/plain": [
       "   STT Họ và tên chủ sử dụng  \\\n",
       "0    1            Lê Thị Nha   \n",
       "\n",
       "                                           Địa chỉ   Địa chỉ thửa đất  \\\n",
       "0  ấp Trung, xã Tân Thông Hội, huyện Củ Chi, Tp.HCM  xã Tân Phú Trung   \n",
       "\n",
       "  Số tờ bản đồ Số thửa  Diện tích  Số Thông báo Ngày ban hành   NGÀY  THÁNG   \\\n",
       "0           11      127     266.6          5960     06-02-2023     6       2   \n",
       "\n",
       "    NĂM Họ và tên chủ sử dụng.1  \\\n",
       "0  2023              Phạm Thành   \n",
       "\n",
       "                                         Địa chỉ mới Địa chỉ thửa đất mới  \\\n",
       "0  27/4T ấp Đông Lân, xã Bà Điểm, huyện Hóc Môn, ...     xã Tân Phú Trung   \n",
       "\n",
       "  Số tờ bản đồ mới Số thửa mới  Diện tích mới số bản vẽ mới ngày tháng năm   \n",
       "0               11         127          266.6         61 BS      02/01/2024  "
      ]
     },
     "execution_count": 154,
     "metadata": {},
     "output_type": "execute_result"
    }
   ],
   "source": [
    "df.head(1)"
   ]
  },
  {
   "cell_type": "code",
   "execution_count": 155,
   "id": "ecab5148",
   "metadata": {},
   "outputs": [
    {
     "name": "stdout",
     "output_type": "stream",
     "text": [
      "['STT', 'Họ và tên chủ sử dụng', 'Địa chỉ ', 'Địa chỉ thửa đất', 'Số tờ bản đồ', 'Số thửa ', 'Diện tích', 'Số Thông báo', 'Ngày ban hành ', 'NGÀY', 'THÁNG ', 'NĂM', 'Họ và tên chủ sử dụng.1', 'Địa chỉ mới', 'Địa chỉ thửa đất mới', 'Số tờ bản đồ mới', 'Số thửa mới', 'Diện tích mới', 'số bản vẽ mới', 'ngày tháng năm ']\n"
     ]
    }
   ],
   "source": [
    "print(columns)"
   ]
  },
  {
   "cell_type": "code",
   "execution_count": 94,
   "id": "b2365896",
   "metadata": {},
   "outputs": [
    {
     "data": {
      "text/plain": [
       "95"
      ]
     },
     "execution_count": 94,
     "metadata": {},
     "output_type": "execute_result"
    }
   ],
   "source": [
    "iterations"
   ]
  },
  {
   "cell_type": "markdown",
   "id": "0a25e96d",
   "metadata": {},
   "source": [
    "# Running"
   ]
  },
  {
   "cell_type": "code",
   "execution_count": 102,
   "id": "53a00395",
   "metadata": {},
   "outputs": [],
   "source": [
    "def run(data_path: str,\n",
    "        template_path: str,\n",
    "        output_folder: str,\n",
    "        data: Dict[str, str],\n",
    "        isMerged: bool = False,\n",
    "        debug: bool = False) -> None:\n",
    "\n",
    "    iterations, df, columns = get_data(data_path)\n",
    "\n",
    "    iterations = 1\n",
    "    if debug:\n",
    "        print(f\"Iterations: {iterations}\")\n",
    "        print(f\"Columns: {columns}\")\n",
    "\n",
    "    documents = []\n",
    "    for iteration in range(iterations):\n",
    "        row = df.iloc[iteration, :]\n",
    "        if debug:\n",
    "            # print(row)\n",
    "            pass\n",
    "        for column in columns:\n",
    "            data[column] = row.loc[column]\n",
    "\n",
    "        if debug:\n",
    "            print(f\"Iter {iteration}\")\n",
    "            print(\"Data:\\n\", data)\n",
    "\n",
    "        # Fill the invitation and get the document\n",
    "        doc = fill_invitations(template_path, data, debug)\n",
    "\n",
    "        if not isMerged:\n",
    "            file_path = os.path.join(output_folder, f\"THÔNG BÁO {row.loc['STT']}.docx\")\n",
    "            doc.save(file_path)\n",
    "            print(f\"Document saved as: {file_path}\")\n",
    "        else:\n",
    "            documents.append(doc)"
   ]
  },
  {
   "cell_type": "code",
   "execution_count": 103,
   "id": "b1624db8",
   "metadata": {},
   "outputs": [],
   "source": [
    "data = {\n",
    "}"
   ]
  },
  {
   "cell_type": "code",
   "execution_count": 104,
   "id": "7ebd2382",
   "metadata": {},
   "outputs": [
    {
     "name": "stdout",
     "output_type": "stream",
     "text": [
      "Iterations: 1\n",
      "Columns: ['STT', 'Họ và tên chủ sử dụng', 'Địa chỉ ', 'Địa chỉ thửa đất', 'Số tờ bản đồ', 'Số thửa ', 'Diện tích', 'Số Thông báo', 'Ngày ban hành ', 'NGÀY', 'THÁNG ', 'NĂM', 'Họ và tên chủ sử dụng.1', 'Địa chỉ .1', 'Địa chỉ thửa đất.1', 'Số tờ bản đồ.1', 'Số thửa .1', 'Diện tích.1', 'số bản vẽ', 'ngày tháng năm ']\n",
      "Iter 0\n",
      "Data:\n",
      " {'STT': np.int64(1), 'Họ và tên chủ sử dụng': 'Lê Thị Nha', 'Địa chỉ ': 'ấp Trung, xã Tân Thông Hội, huyện Củ Chi, Tp.HCM', 'Địa chỉ thửa đất': 'xã Tân Phú Trung', 'Số tờ bản đồ': 11, 'Số thửa ': 127, 'Diện tích': 266.6, 'Số Thông báo': np.int64(5960), 'Ngày ban hành ': '06-02-2023', 'NGÀY': np.int64(6), 'THÁNG ': np.int64(2), 'NĂM': np.int64(2023), 'Họ và tên chủ sử dụng.1': 'Phạm Thành', 'Địa chỉ .1': '27/4T ấp Đông Lân, xã Bà Điểm, huyện Hóc Môn, Tp.HCM', 'Địa chỉ thửa đất.1': 'xã Tân Phú Trung', 'Số tờ bản đồ.1': 11, 'Số thửa .1': 127, 'Diện tích.1': np.float64(266.6), 'số bản vẽ': '61 BS', 'ngày tháng năm ': '02/01/2024'}\n",
      "----------\n",
      "THÔNG BÁO\n",
      "----------\n",
      "----------\n",
      "V/v điều chỉnh Thông báo số [Số_Thông_báo]/TB-UBND ngày 02 tháng 06 năm [NĂM] của Ủy ban nhân dân huyện Củ Chi về thu hồi đất để thực hiện dự án Nâng cấp, mở rộng và nạo vét kênh trục tiêu thoát nước rạch Láng The, kênh Địa phận tại huyện Củ Chi\n",
      "----------\n",
      "Replaced: [NĂM] with 2023\n",
      "----------\n",
      "\n",
      "----------\n",
      "----------\n",
      "Căn cứ Luật Tổ chức chính quyền địa phương ngày 19 tháng 6 năm 2015;\n",
      "----------\n",
      "----------\n",
      "Căn cứ Luật sửa đổi, bổ sung một số điều của Luật tổ chức Chính phủ và Luật Tổ chức chính quyền địa phương ngày 22 tháng 11 năm 2019;\n",
      "----------\n",
      "----------\n",
      "Căn cứ Luật Đất đai số 31/2024/QH15 ngày 18 tháng 01 năm 2024; Luật sửa đổi, bổ sung một số điều của Luật Đất đai số 31/2024/QH15, Luật Nhà ở số 27/2023/QH15, Luật Kinh doanh bất động sản số 29/2023/QH15 và Luật Các tổ chức tín dụng số 32/2024/QH15 ngày 29 tháng 6 năm 2024;\n",
      "----------\n",
      "----------\n",
      "Căn cứ Nghị định số 102/2024/NĐ-CP ngày 30 tháng 7 năm 2024 của Chính phủ quy định chi tiết thi hành một số điều của Luật Đất đai;\n",
      "----------\n",
      "----------\n",
      "Căn cứ Nghị định số 101/2024/NĐ-CP ngày 29 tháng 7 năm 2024 của Chính phủ quy định về điều tra cơ bản đất đai; đăng ký, cấp giấy chứng nhận quyền sử dụng đất, quyền sở hữu tài sản gắn liền với đất và Hệ thống thông tin đất đai;\n",
      "----------\n",
      "----------\n",
      "Căn cứ Nghị định số 88/2024/NĐ-CP ngày 15 tháng 7 năm 2024 của Chính phủ quy định về bồi thường, hỗ trợ, tái định cư khi Nhà nước thu hồi đất;\n",
      "----------\n",
      "----------\n",
      "Căn cứ Quyết định số 68/2024/QĐ-UBND ngày 25 tháng 9 năm 2024 của Ủy ban nhân dân Thành phố Hồ Chí Minh về ban hành quy định về bồi thường, hỗ trợ, tái định cư khi Nhà nước thu hồi đất trên địa bàn Thành phố Hồ Chí Minh;\n",
      "----------\n",
      "----------\n",
      "Căn cứ Quyết định số 357/QĐ-SNN ngày 31 tháng 10 năm 2019 của Sở Nông nghiệp và Phát triển Nông thôn Thành phố Hồ Chí Minh về việc phê duyệt dự án Nâng cấp, mở rộng và nạo vét kênh trục tiêu thoát nước rạch Láng The, kênh Địa Phận tại huyện Củ Chi;\n",
      "----------\n",
      "----------\n",
      "Căn cứ Quyết định số 22/QĐ-BQLNN ngày 15 tháng 7 năm 2021 của Ban Quản lý dự án đầu tư xây dựng các công trình nông nghiệp và Phát triển nông thôn Thành phố Hồ Chí Minh về phê duyệt thiết kế xây dựng triển khai sau thiết kế cơ sở dự án Nâng cấp, mở rộng và nạo vét kênh trục tiêu thoát nước rạch Láng The, kênh Địa Phận tại huyện Củ Chi;\n",
      "----------\n",
      "----------\n",
      "Căn cứ Quyết định số 400/QĐ-SNN ngày 27 tháng 10 năm 2022 của Sở Nông nghiệp và Phát triển nông thôn Thành phố Hồ Chí Minh về phê duyệt điều chỉnh thời gian thực hiện dự án Nâng cấp, mở rộng và nạo vét kênh trục tiêu thoát nước rạch Láng The, kênh Địa Phận tại huyện Củ Chi;\n",
      "----------\n",
      "----------\n",
      "Căn cứ Kế hoạch số 1903/KH-UBND ngày 07 tháng 3 năm 2023 của Ủy ban nhân dân huyện Củ Chi về thu hồi đất, điều tra, khảo sát, đo đạc, kiểm đếm để thực hiện dự án Nâng cấp, mở rộng và nạo vét kênh trục tiêu thoát nước rạch Láng The, kênh Địa phận tại huyện Củ Chi;\n",
      "----------\n",
      "----------\n",
      "Căn cứ Thông báo số 5915/TB-UBND ngày 02 tháng 6 năm 2023 của Ủy ban nhân dân huyện Củ Chi về việc thu hồi đất để thực hiện dự án Nâng cấp, mở rộng và nạo vét kênh trục tiêu thoát nước rạch Láng The, kênh Địa phận tại huyện Củ Chi;\n",
      "----------\n",
      "----------\n",
      "Căn cứ tiến độ sử dụng đất thực hiện dự án Nâng cấp, mở rộng và nạo vét kênh trục tiêu thoát nước rạch Láng The, kênh Địa phận tại huyện Củ Chi;\n",
      "----------\n",
      "----------\n",
      "Xét kiến nghị của Ban Bồi thường – Giải phóng mặt bằng huyện tại Công văn số 1367/BBT ngày 22 tháng 7 năm 2024 và kiến nghị của Phòng Tài nguyên và Môi trường huyện tại Tờ trình số 1201/TTr-TNMT ngày 24 tháng 02 năm 2025.\n",
      "----------\n",
      "----------\n",
      "Ủy ban nhân dân huyện Củ Chi thông báo điều chỉnh Mục 1 Thông báo số [Số Thông báo]/TB-UBND ngày 02 tháng 6 năm [NĂM] thành:\n",
      "----------\n",
      "Replaced: [Số_Thông_báo] with 5960\n",
      "Replaced: [NĂM] with 2023\n",
      "----------\n",
      "“1. Thu hồi đất của ông (bà) [Họ_và_tên_chủ_sử_dụng]\n",
      "----------\n",
      "----------\n",
      "- Địa chỉ: [Địa_chỉ]\n",
      "----------\n",
      "----------\n",
      "- Diện tích đất dự kiến thu hồi: [Diện_tích]m2.\n",
      "----------\n",
      "Replaced: [Diện_tích] with 266.6\n",
      "----------\n",
      "- Thửa đất số: thuộc một phần thửa đất số [Số_thửa]; tờ bản đồ số [Số_tờ_bản_đồ] theo tài liệu bản đồ kỹ thuật số, bộ địa chính [Địa_chỉ_thửa_đất], huyện Củ Chi.\n",
      "----------\n",
      "----------\n",
      "Diện tích, vị trí, ranh giới phần đất thu hồi được xác định theo bản đồ hiện trạng vị trí số hợp đồng: 04/2021/HĐĐĐ, số bản vẽ [số_bản_vẽ] (130226/TTĐĐBĐ-VPTT) do Trung tâm Đo đạc bản đồ Thành phố Hồ Chí Minh lập [ngày_tháng_năm_]”.\n",
      "----------\n",
      "Replaced: [Diện_tích] with 266.6\n",
      "Replaced: [số_bản_vẽ] with 61 BS\n",
      "----------\n",
      "Các nội dung khác tại Thông báo số [Số_Thông_báo]/TB- UBND ngày [NGÀY]2 tháng 6 năm [NĂM] của Ủy ban nhân dân huyện Củ Chi không thay đổi.\n",
      "----------\n",
      "Replaced: [NGÀY] with 6\n",
      "Replaced: [NĂM] with 2023\n",
      "----------\n",
      "Nay Ủy ban nhân dân huyện Củ Chi thông báo cho Văn phòng Hội đồng nhân dân và Ủy ban nhân dân huyện, Phòng Tài nguyên và Môi trường huyện, Ban Bồi thường - Giải phóng mặt bằng huyện, Phòng Quản lý Đô thị huyện, Ủy ban nhân dân xã [Địa_chỉ_thửa_đất], Ban Quản lý Dự án đầu tư xây dựng các công trình nông nghiệp và phát triển nông thôn Thành phố (Chủ đầu tư dự án) và ông (bà) [Họ_và_tên_chủ_sử_dụng] được biết.\n",
      "----------\n",
      "----------\n",
      "\n",
      "----------\n",
      "----------\n",
      "\n",
      "----------\n",
      "----------\n",
      "\n",
      "----------\n",
      "Document saved as: results/THÔNG BÁO 1.docx\n"
     ]
    }
   ],
   "source": [
    "run(\n",
    "    data_path=data_path,\n",
    "    template_path=template_path,\n",
    "    output_folder=output_folder,\n",
    "    data=data,\n",
    "    debug=True\n",
    ")"
   ]
  },
  {
   "cell_type": "code",
   "execution_count": 152,
   "id": "2c552dfe",
   "metadata": {},
   "outputs": [],
   "source": [
    "doc = Document(\"format1.docx\")"
   ]
  },
  {
   "cell_type": "code",
   "execution_count": 66,
   "id": "c5d8a270",
   "metadata": {},
   "outputs": [
    {
     "name": "stdout",
     "output_type": "stream",
     "text": [
      "THÔNG BÁO\n",
      "THÔNG BÁO\n",
      "V/v điều chỉnh Thông báo số [Số_Thông_báo]/TB-UBND ngày 02 tháng 06 năm [NĂM] của Ủy ban nhân dân huyện Củ Chi về thu hồi đất để thực hiện dự án Nâng cấp, mở rộng và nạo vét kênh trục tiêu thoát nước rạch Láng The, kênh Địa phận tại huyện Củ Chi\n",
      "V/v điều chỉnh Thông báo số [Số_Thông_báo]/TB-UBND ngày 02 tháng 06 năm [NĂM] của Ủy ban nhân dân huyện Củ Chi về thu hồi đất để thực hiện dự án Nâng cấp, mở rộng và nạo vét kênh trục tiêu thoát nước rạch Láng The, kênh Địa phận tại huyện Củ Chi\n",
      "\n",
      "\n",
      "Căn cứ Luật Tổ chức chính quyền địa phương ngày 19 tháng 6 năm 2015;\n",
      "Căn cứ Luật Tổ chức chính quyền địa phương ngày 19 tháng 6 năm 2015;\n",
      "Căn cứ Luật sửa đổi, bổ sung một số điều của Luật tổ chức Chính phủ và Luật Tổ chức chính quyền địa phương ngày 22 tháng 11 năm 2019;\n",
      "Căn cứ Luật sửa đổi, bổ sung một số điều của Luật tổ chức Chính phủ và Luật Tổ chức chính quyền địa phương ngày 22 tháng 11 năm 2019;\n"
     ]
    }
   ],
   "source": [
    "for i in range(5):\n",
    "    print(doc.paragraphs[i].text)\n",
    "    paragraph = doc.paragraphs[i]\n",
    "    if f\"[Số Thông báo]\" in paragraph.text:\n",
    "        print(\"Replacing\")\n",
    "        for run in paragraph.runs:\n",
    "            run.text = run.text.replace(f\"[Số Thông báo]\", str(123847))\n",
    "    print(doc.paragraphs[i].text)"
   ]
  },
  {
   "cell_type": "code",
   "execution_count": 116,
   "id": "efa7699d",
   "metadata": {},
   "outputs": [
    {
     "data": {
      "text/plain": [
       "'V/v điều chỉnh Thông báo số [Số_Thông_báo]/TB-UBND ngày 02 tháng 06 năm [NĂM] của Ủy ban nhân dân huyện Củ Chi về thu hồi đất để thực hiện dự án Nâng cấp, mở rộng và nạo vét kênh trục tiêu thoát nước rạch Láng The, kênh Địa phận tại huyện Củ Chi'"
      ]
     },
     "execution_count": 116,
     "metadata": {},
     "output_type": "execute_result"
    }
   ],
   "source": [
    "paragraph = doc.paragraphs[1]\n",
    "paragraph.text"
   ]
  },
  {
   "cell_type": "code",
   "execution_count": 117,
   "id": "1cb124f7",
   "metadata": {},
   "outputs": [
    {
     "data": {
      "text/plain": [
       "'V/v điều chỉnh Thông báo số [Số Thông báo]/TB-UBND ngày 02 tháng 06 năm [NĂM] của Ủy ban nhân dân huyện Củ Chi về thu hồi đất để thực hiện dự án Nâng cấp, mở rộng và nạo vét kênh trục tiêu thoát nước rạch Láng The, kênh Địa phận tại huyện Củ Chi'"
      ]
     },
     "execution_count": 117,
     "metadata": {},
     "output_type": "execute_result"
    }
   ],
   "source": [
    "paragraph.text = paragraph.text.replace(\"_\", \" \")\n",
    "paragraph.text"
   ]
  },
  {
   "cell_type": "code",
   "execution_count": 118,
   "id": "404db4ac",
   "metadata": {},
   "outputs": [
    {
     "data": {
      "text/plain": [
       "True"
      ]
     },
     "execution_count": 118,
     "metadata": {},
     "output_type": "execute_result"
    }
   ],
   "source": [
    "f\"[Số Thông báo]\" in paragraph.text"
   ]
  },
  {
   "cell_type": "code",
   "execution_count": 119,
   "id": "dc7fb91b",
   "metadata": {},
   "outputs": [
    {
     "name": "stdout",
     "output_type": "stream",
     "text": [
      "V/v điều chỉnh Thông báo số [Số Thông báo]/TB-UBND ngày 02 tháng 06 năm [NĂM] của Ủy ban nhân dân huyện Củ Chi về thu hồi đất để thực hiện dự án Nâng cấp, mở rộng và nạo vét kênh trục tiêu thoát nước rạch Láng The, kênh Địa phận tại huyện Củ Chi\n",
      "V/v điều chỉnh Thông báo số 123847/TB-UBND ngày 02 tháng 06 năm [NĂM] của Ủy ban nhân dân huyện Củ Chi về thu hồi đất để thực hiện dự án Nâng cấp, mở rộng và nạo vét kênh trục tiêu thoát nước rạch Láng The, kênh Địa phận tại huyện Củ Chi\n"
     ]
    }
   ],
   "source": [
    "for run in paragraph.runs:\n",
    "    print(run.text)\n",
    "    run.text = run.text.replace(f\"[Số Thông báo]\", str(123847))\n",
    "    print(run.text)"
   ]
  },
  {
   "cell_type": "code",
   "execution_count": 141,
   "id": "3ac773e1",
   "metadata": {},
   "outputs": [
    {
     "data": {
      "text/plain": [
       "'Nay Ủy ban nhân dân huyện Củ Chi thông báo cho Văn phòng Hội đồng nhân dân và Ủy ban nhân dân huyện, Phòng Tài nguyên và Môi trường huyện, Ban Bồi thường - Giải phóng mặt bằng huyện, Phòng Quản lý Đô thị huyện, Ủy ban nhân dân xã «Địa_chỉ_thửa_đất», Ban Quản lý Dự án đầu tư xây dựng các công trình nông nghiệp và phát triển nông thôn Thành phố (Chủ đầu tư dự án) và ông (bà) «Họ_và_tên_chủ_sử_dụng» được biết.'"
      ]
     },
     "execution_count": 141,
     "metadata": {},
     "output_type": "execute_result"
    }
   ],
   "source": [
    "paragraph = doc.paragraphs[-3]\n",
    "paragraph.text"
   ]
  },
  {
   "cell_type": "code",
   "execution_count": 142,
   "id": "724e9447",
   "metadata": {},
   "outputs": [
    {
     "data": {
      "text/plain": [
       "True"
      ]
     },
     "execution_count": 142,
     "metadata": {},
     "output_type": "execute_result"
    }
   ],
   "source": [
    "f\"«Địa_chỉ_thửa_đất»\" in paragraph.text"
   ]
  },
  {
   "cell_type": "code",
   "execution_count": 144,
   "id": "f8b7fda8",
   "metadata": {},
   "outputs": [
    {
     "name": "stdout",
     "output_type": "stream",
     "text": [
      "Nay \n",
      "Nay \n",
      "Ủy ban nhân dân huyện \n",
      "Ủy ban nhân dân huyện \n",
      "Củ Chi \n",
      "Củ Chi \n",
      "thông báo cho \n",
      "thông báo cho \n",
      "Văn phòng Hội đồng nhân dân và Ủy ban nhân dân huyện, Phòng Tài nguyên và Môi trường huyện, Ban Bồi thường - Giải phóng mặt bằng huyện, Phòng Quản lý Đô thị huyện\n",
      "Văn phòng Hội đồng nhân dân và Ủy ban nhân dân huyện, Phòng Tài nguyên và Môi trường huyện, Ban Bồi thường - Giải phóng mặt bằng huyện, Phòng Quản lý Đô thị huyện\n",
      ", Ủy ban nhân dân xã\n",
      ", Ủy ban nhân dân xã\n",
      " \n",
      " \n",
      "\n",
      "\n",
      "\n",
      "\n",
      "\n",
      "\n",
      "«Địa_chỉ_thửa_đất»\n",
      "1312312\n",
      "\n",
      "\n",
      ", \n",
      ", \n",
      "Ban \n",
      "Ban \n",
      "Quản lý Dự án đầu tư xây dựng các công trình \n",
      "Quản lý Dự án đầu tư xây dựng các công trình \n",
      "nông nghiệp và phát triển nông thôn Thành phố (Chủ đầu tư dự án)\n",
      "nông nghiệp và phát triển nông thôn Thành phố (Chủ đầu tư dự án)\n",
      " và ông\n",
      " và ông\n",
      " (bà)\n",
      " (bà)\n",
      " \n",
      " \n",
      "\n",
      "\n",
      "\n",
      "\n",
      "\n",
      "\n",
      "«Họ_và_tên_chủ_sử_dụng»\n",
      "«Họ_và_tên_chủ_sử_dụng»\n",
      "\n",
      "\n",
      " \n",
      " \n",
      "được biết\n",
      "được biết\n",
      ".\n",
      ".\n"
     ]
    }
   ],
   "source": [
    "for run in paragraph.runs:\n",
    "    print(run.text)\n",
    "    run.text = run.text.replace(f\"«Địa_chỉ_thửa_đất»\", str(1312312))\n",
    "    print(run.text)"
   ]
  },
  {
   "cell_type": "code",
   "execution_count": 148,
   "id": "30ea193e",
   "metadata": {},
   "outputs": [],
   "source": [
    "# Process tables\n",
    "for table in doc.tables:\n",
    "    for row in table.rows:\n",
    "        for cell in row.cells:\n",
    "            combined_text = cell.text\n",
    "            for key, value in data.items():\n",
    "                key = key.replace(' ', '_')\n",
    "                key = f\"«{key}»\"\n",
    "                if key in combined_text:\n",
    "                    if False:\n",
    "                        print(f\"Found {key} in table cell\")\n",
    "                        print(f\"Replacing: {key} with {str(value)}\")\n",
    "\n",
    "                    combined_text = combined_text.replace(key, str(value))\n",
    "                    cell.text = combined_text"
   ]
  },
  {
   "cell_type": "code",
   "execution_count": 145,
   "id": "89123efe",
   "metadata": {},
   "outputs": [
    {
     "name": "stdout",
     "output_type": "stream",
     "text": [
      "2\n"
     ]
    }
   ],
   "source": [
    "print(len(doc.tables))"
   ]
  },
  {
   "cell_type": "code",
   "execution_count": 150,
   "id": "93e32599",
   "metadata": {},
   "outputs": [
    {
     "name": "stdout",
     "output_type": "stream",
     "text": [
      "ỦY BAN NHÂN DÂN \n"
     ]
    }
   ],
   "source": [
    "print(doc.tables[0].rows[0].cells[0].text)"
   ]
  },
  {
   "cell_type": "code",
   "execution_count": 156,
   "id": "c38541a6",
   "metadata": {},
   "outputs": [
    {
     "data": {
      "text/plain": [
       "['STT',\n",
       " 'Họ và tên chủ sử dụng',\n",
       " 'Địa chỉ ',\n",
       " 'Địa chỉ thửa đất',\n",
       " 'Số tờ bản đồ',\n",
       " 'Số thửa ',\n",
       " 'Diện tích',\n",
       " 'Số Thông báo',\n",
       " 'Ngày ban hành ',\n",
       " 'NGÀY',\n",
       " 'THÁNG ',\n",
       " 'NĂM',\n",
       " 'Họ và tên chủ sử dụng.1',\n",
       " 'Địa chỉ mới',\n",
       " 'Địa chỉ thửa đất mới',\n",
       " 'Số tờ bản đồ mới',\n",
       " 'Số thửa mới',\n",
       " 'Diện tích mới',\n",
       " 'số bản vẽ mới',\n",
       " 'ngày tháng năm ']"
      ]
     },
     "execution_count": 156,
     "metadata": {},
     "output_type": "execute_result"
    }
   ],
   "source": [
    "columns"
   ]
  },
  {
   "cell_type": "code",
   "execution_count": null,
   "id": "85e2d7a1",
   "metadata": {},
   "outputs": [],
   "source": []
  }
 ],
 "metadata": {
  "kernelspec": {
   "display_name": "office",
   "language": "python",
   "name": "python3"
  },
  "language_info": {
   "codemirror_mode": {
    "name": "ipython",
    "version": 3
   },
   "file_extension": ".py",
   "mimetype": "text/x-python",
   "name": "python",
   "nbconvert_exporter": "python",
   "pygments_lexer": "ipython3",
   "version": "3.9.21"
  }
 },
 "nbformat": 4,
 "nbformat_minor": 5
}
